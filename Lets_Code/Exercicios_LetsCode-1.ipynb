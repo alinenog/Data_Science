{
 "cells": [
  {
   "cell_type": "markdown",
   "metadata": {},
   "source": [
    "# Exercícios mini curso Lets Code"
   ]
  },
  {
   "cell_type": "markdown",
   "metadata": {},
   "source": [
    "Trabalhando com data"
   ]
  },
  {
   "cell_type": "code",
   "execution_count": 4,
   "metadata": {},
   "outputs": [
    {
     "name": "stdout",
     "output_type": "stream",
     "text": [
      "12:06:21.000007 Hora: minuto:segundo.microsegundo\n",
      "----\n",
      "2020-04-25 Ano-mês-dia\n",
      "----\n",
      "2020-04-25 12:06:21.000007 Ano-mês,dia Hora:minuto:segundo.microsegundo\n"
     ]
    }
   ],
   "source": [
    "import datetime as dt \n",
    "\n",
    "#Modelo de formatação \n",
    "print(dt.time(12, 6, 21, 7), 'Hora: minuto:segundo.microsegundo')\n",
    "print('----')\n",
    "print(dt.date(2020, 4, 25),'Ano-mês-dia')\n",
    "print('----')\n",
    "print(dt.datetime(2020, 4, 25, 12, 6, 21, 7), 'Ano-mês,dia Hora:minuto:segundo.microsegundo')"
   ]
  },
  {
   "cell_type": "code",
   "execution_count": 6,
   "metadata": {},
   "outputs": [
    {
     "name": "stdout",
     "output_type": "stream",
     "text": [
      "7 days, 0:00:00\n",
      "7\n",
      "0\n",
      "0\n"
     ]
    }
   ],
   "source": [
    "#Trabalhando com data (Quanto tempo tem entre essas duas datas)\n",
    "\n",
    "natal = dt.date(2020, 12, 25)\n",
    "reveillon = dt.date(2021, 1, 1)\n",
    "\n",
    "print(reveillon - natal)\n",
    "print((reveillon - natal).days)\n",
    "print((reveillon - natal).seconds)\n",
    "print((reveillon - natal).microseconds)"
   ]
  }
 ],
 "metadata": {
  "interpreter": {
   "hash": "916dbcbb3f70747c44a77c7bcd40155683ae19c65e1c03b4aa3499c5328201f1"
  },
  "kernelspec": {
   "display_name": "Python 3.9.2 64-bit",
   "language": "python",
   "name": "python3"
  },
  "language_info": {
   "codemirror_mode": {
    "name": "ipython",
    "version": 3
   },
   "file_extension": ".py",
   "mimetype": "text/x-python",
   "name": "python",
   "nbconvert_exporter": "python",
   "pygments_lexer": "ipython3",
   "version": "3.9.2"
  },
  "orig_nbformat": 4
 },
 "nbformat": 4,
 "nbformat_minor": 2
}
